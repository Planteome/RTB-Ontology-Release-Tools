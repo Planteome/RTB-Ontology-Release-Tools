{
 "cells": [
  {
   "cell_type": "code",
   "execution_count": 2,
   "id": "56ce63ab-ed70-4a37-aac3-2e10aa33e4c7",
   "metadata": {},
   "outputs": [
    {
     "name": "stdout",
     "output_type": "stream",
     "text": [
      "Skipping row 69: TO ID is missing\n",
      "Skipping row 75: TO ID is missing\n",
      "Skipping row 120: TO ID is missing\n",
      "OBO file generated at: cb_trait.obo\n"
     ]
    }
   ],
   "source": [
    "#!/usr/bin/env python3\n",
    "import pandas as pd\n",
    "from pronto import Ontology, Definition\n",
    "\n",
    "# --- File paths (update these as needed) ---\n",
    "excel_file = \"./mapping_cb.xlsx\"   # Replace with your Excel file path\n",
    "obo_output = \"cb_trait.obo\"                # Replace with your desired output file path\n",
    "crop_name = \"\" #Replace with name of the crop\n",
    "\n",
    "# --- Read the Excel file ---\n",
    "df = pd.read_excel(excel_file)\n",
    "\n",
    "# --- Create a new ontology ---\n",
    "o = Ontology()\n",
    "\n",
    "# --- Process each row in the Excel file ---\n",
    "for index, row in df.iterrows():\n",
    "    # Check if \"TO ID\" is empty or does not start with \"TO:\"\n",
    "    raw_to_id = row[\"TO ID\"]\n",
    "    if pd.isna(raw_to_id):\n",
    "        print(f\"Skipping row {index}: TO ID is missing\")\n",
    "        continue\n",
    "    to_id = str(raw_to_id).strip()\n",
    "    if not to_id.startswith(\"TO:\"):\n",
    "        print(f\"Skipping row {index}: TO ID '{to_id}' does not start with 'TO:'\")\n",
    "        continue\n",
    "\n",
    "    # Extract and clean other values\n",
    "    trait_id = str(row[\"Trait ID\"]).strip()\n",
    "    trait_name = crop_name+ \" \" + str(row[\"Trait name\"]).strip().lower() + \" trait\"\n",
    "    trait_desc = str(row[\"Trait description\"]).strip() if row[\"Trait description\"] else \"\"\n",
    "    trait_synonyms = str(row[\"Trait synonyms\"]).strip() if row[\"Trait synonyms\"] else \"\"\n",
    "\n",
    "    # --- Ensure the trait class (from TO ID) exists ---\n",
    "    if to_id not in o:\n",
    "        trait_class_term = o.create_term(to_id)\n",
    "        trait_class_term.name = str(row[\"TO label\"]).strip()\n",
    "    else:\n",
    "        trait_class_term = o[to_id]\n",
    "\n",
    "    # --- Create the trait term ---\n",
    "    if trait_id in o:\n",
    "        trait_term = o[trait_id]\n",
    "    else:\n",
    "        trait_term = o.create_term(trait_id)\n",
    "    trait_term.name = trait_name\n",
    "    if trait_desc:\n",
    "        trait_term.definition = Definition(trait_desc)\n",
    "    if trait_synonyms:\n",
    "        for syn in trait_synonyms.split(\",\"):\n",
    "            trait_term.add_synonym(syn.strip(), scope='EXACT')\n",
    "\n",
    "    # --- Set the trait term as a subclass of the trait class term ---\n",
    "    trait_term.superclasses().add(trait_class_term)\n",
    "\n",
    "# --- Write the ontology to an OBO file ---\n",
    "with open(obo_output, \"wb\") as f:\n",
    "    o.dump(f, format=\"obo\")\n",
    "\n",
    "print(\"OBO file generated at:\", obo_output)\n"
   ]
  },
  {
   "cell_type": "code",
   "execution_count": null,
   "id": "e2579508-1e03-475c-a096-c11ab699aca6",
   "metadata": {},
   "outputs": [],
   "source": []
  }
 ],
 "metadata": {
  "kernelspec": {
   "display_name": "venv",
   "language": "python",
   "name": "venv"
  },
  "language_info": {
   "codemirror_mode": {
    "name": "ipython",
    "version": 3
   },
   "file_extension": ".py",
   "mimetype": "text/x-python",
   "name": "python",
   "nbconvert_exporter": "python",
   "pygments_lexer": "ipython3",
   "version": "3.12.6"
  }
 },
 "nbformat": 4,
 "nbformat_minor": 5
}
